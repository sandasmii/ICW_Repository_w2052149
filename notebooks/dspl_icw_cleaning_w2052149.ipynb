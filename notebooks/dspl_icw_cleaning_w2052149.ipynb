{
  "nbformat": 4,
  "nbformat_minor": 0,
  "metadata": {
    "colab": {
      "provenance": []
    },
    "kernelspec": {
      "name": "python3",
      "display_name": "Python 3"
    },
    "language_info": {
      "name": "python"
    }
  },
  "cells": [
    {
      "cell_type": "markdown",
      "source": [
        "**Data Preparation**"
      ],
      "metadata": {
        "id": "PkxdyVizIqGO"
      }
    },
    {
      "cell_type": "code",
      "execution_count": 1,
      "metadata": {
        "id": "5Yiq2exgQ2sK"
      },
      "outputs": [],
      "source": [
        "#import the necessary library and load the dataset\n",
        "import pandas as pd\n",
        "import matplotlib.pyplot as plt\n",
        "import seaborn as sns\n",
        "import numpy as np\n",
        "df = pd.read_csv('/content/exchange-rates_lka.csv')"
      ]
    },
    {
      "cell_type": "code",
      "source": [
        "#Drop the second row (index 1)\n",
        "df.drop(index=1, inplace=True)"
      ],
      "metadata": {
        "id": "-r9mwUc-jO91"
      },
      "execution_count": 2,
      "outputs": []
    },
    {
      "cell_type": "code",
      "source": [
        "#Finding the number of columns and rows and print out the list of columns\n",
        "print(\"Number of columns:\", len(df.columns))\n",
        "print(\"Number of rows:\", len(df))\n",
        "print(\"Column names:\", df.columns.tolist())"
      ],
      "metadata": {
        "colab": {
          "base_uri": "https://localhost:8080/"
        },
        "id": "bQTzZ0vQQ-kn",
        "outputId": "d5d7446f-b5a4-4e22-c9aa-a4fd42c43e67"
      },
      "execution_count": 3,
      "outputs": [
        {
          "output_type": "stream",
          "name": "stdout",
          "text": [
            "Number of columns: 17\n",
            "Number of rows: 727\n",
            "Column names: ['Iso3', 'StartDate', 'EndDate', 'Area Code', 'Area Code (M49)', 'Area', 'Element Code', 'Element', 'ISO Currency Code', 'Currency', 'Year Code', 'Year', 'Months Code', 'Months', 'Unit', 'Value', 'Flag']\n"
          ]
        }
      ]
    },
    {
      "cell_type": "code",
      "source": [
        "#Drop irrelevant columns\n",
        "columns_to_drop = [\n",
        "    'Iso3','EndDate','Area Code','Area Code (M49)','Area','Element Code',\n",
        "    'Element','ISO Currency Code','Currency','Year Code','Months Code','Unit','Flag'\n",
        "]\n",
        "df.drop(columns=columns_to_drop, inplace=True)\n",
        "\n",
        "#Remove duplicate rows\n",
        "df.drop_duplicates(inplace=True)"
      ],
      "metadata": {
        "id": "mJwmoN9hTPtO"
      },
      "execution_count": 4,
      "outputs": []
    },
    {
      "cell_type": "code",
      "source": [
        "#Rename columns for clarity\n",
        "df.rename(columns={\n",
        "    'StartDate': 'Date',\n",
        "    'Year': 'Year',\n",
        "    'Months': 'Month',\n",
        "    'Value': 'Exchange_Rate'\n",
        "}, inplace=True)"
      ],
      "metadata": {
        "id": "wdZiOETuGype"
      },
      "execution_count": 5,
      "outputs": []
    },
    {
      "cell_type": "code",
      "source": [
        "#Convert start and end dates to datetime format\n",
        "df['Date'] = pd.to_datetime(df['Date'], format='%Y-%m-%d', errors='coerce')"
      ],
      "metadata": {
        "id": "LKNVt4kLH0eJ"
      },
      "execution_count": 6,
      "outputs": []
    },
    {
      "cell_type": "code",
      "source": [
        "#Convert Exchange_Rate to numeric format\n",
        "df['Exchange_Rate'] = pd.to_numeric(df['Exchange_Rate'], errors='coerce')"
      ],
      "metadata": {
        "id": "8ggXtdiBhX6v"
      },
      "execution_count": 7,
      "outputs": []
    },
    {
      "cell_type": "code",
      "source": [
        "#Drop rows with missing values\n",
        "df = df.dropna()"
      ],
      "metadata": {
        "id": "5xmxITnUIg50"
      },
      "execution_count": 8,
      "outputs": []
    },
    {
      "cell_type": "code",
      "source": [
        "# Remove duplicate rows in 'Date'\n",
        "df.drop_duplicates(subset=['Date'], inplace=True)"
      ],
      "metadata": {
        "colab": {
          "base_uri": "https://localhost:8080/"
        },
        "id": "3WnoQfmepUKx",
        "outputId": "1ff8b0ee-e543-4a41-f73e-160aac8b6d58"
      },
      "execution_count": 9,
      "outputs": [
        {
          "output_type": "stream",
          "name": "stderr",
          "text": [
            "<ipython-input-9-b38fc5831795>:2: SettingWithCopyWarning: \n",
            "A value is trying to be set on a copy of a slice from a DataFrame\n",
            "\n",
            "See the caveats in the documentation: https://pandas.pydata.org/pandas-docs/stable/user_guide/indexing.html#returning-a-view-versus-a-copy\n",
            "  df.drop_duplicates(subset=['Date'], inplace=True)\n"
          ]
        }
      ]
    },
    {
      "cell_type": "code",
      "source": [
        "#Extract Year and Month for filtering and grouping\n",
        "df['Year'] = df['Date'].dt.year\n",
        "df['Month'] = df['Date'].dt.month\n",
        "\n",
        "#Sort the data by Date\n",
        "df.sort_values(by='Date', inplace=True)"
      ],
      "metadata": {
        "colab": {
          "base_uri": "https://localhost:8080/"
        },
        "id": "RUrjkeAFfFTx",
        "outputId": "0738af34-77da-4810-da5c-3dea9dbb1560"
      },
      "execution_count": 10,
      "outputs": [
        {
          "output_type": "stream",
          "name": "stderr",
          "text": [
            "<ipython-input-10-1e4520f68364>:2: SettingWithCopyWarning: \n",
            "A value is trying to be set on a copy of a slice from a DataFrame.\n",
            "Try using .loc[row_indexer,col_indexer] = value instead\n",
            "\n",
            "See the caveats in the documentation: https://pandas.pydata.org/pandas-docs/stable/user_guide/indexing.html#returning-a-view-versus-a-copy\n",
            "  df['Year'] = df['Date'].dt.year\n",
            "<ipython-input-10-1e4520f68364>:3: SettingWithCopyWarning: \n",
            "A value is trying to be set on a copy of a slice from a DataFrame.\n",
            "Try using .loc[row_indexer,col_indexer] = value instead\n",
            "\n",
            "See the caveats in the documentation: https://pandas.pydata.org/pandas-docs/stable/user_guide/indexing.html#returning-a-view-versus-a-copy\n",
            "  df['Month'] = df['Date'].dt.month\n",
            "<ipython-input-10-1e4520f68364>:6: SettingWithCopyWarning: \n",
            "A value is trying to be set on a copy of a slice from a DataFrame\n",
            "\n",
            "See the caveats in the documentation: https://pandas.pydata.org/pandas-docs/stable/user_guide/indexing.html#returning-a-view-versus-a-copy\n",
            "  df.sort_values(by='Date', inplace=True)\n"
          ]
        }
      ]
    },
    {
      "cell_type": "code",
      "source": [
        "#Save cleaned dataset\n",
        "df.to_csv('cleaned_exchange_rates.csv', index=False)\n",
        "\n",
        "#Print the first few rows of the cleaned data frame\n",
        "print(df.head())"
      ],
      "metadata": {
        "colab": {
          "base_uri": "https://localhost:8080/"
        },
        "id": "4tLEu2U_j51b",
        "outputId": "4e575260-2136-46fa-b0cd-fe10a48b6a8e"
      },
      "execution_count": 11,
      "outputs": [
        {
          "output_type": "stream",
          "name": "stdout",
          "text": [
            "        Date  Year  Month  Exchange_Rate\n",
            "2 1970-01-01  1970      1        5.95237\n",
            "3 1970-02-01  1970      2        5.95237\n",
            "4 1970-03-01  1970      3        5.95237\n",
            "5 1970-04-01  1970      4        5.95237\n",
            "6 1970-05-01  1970      5        5.95237\n"
          ]
        }
      ]
    },
    {
      "cell_type": "code",
      "source": [
        "#The number of columns and rows in the cleaned df\n",
        "print(\"Number of columns:\", len(df.columns))\n",
        "print(\"Number of rows:\", len(df))"
      ],
      "metadata": {
        "colab": {
          "base_uri": "https://localhost:8080/"
        },
        "id": "xJAzba2VpuiS",
        "outputId": "53061f69-ccad-4653-98ed-6161b1286ec9"
      },
      "execution_count": 12,
      "outputs": [
        {
          "output_type": "stream",
          "name": "stdout",
          "text": [
            "Number of columns: 4\n",
            "Number of rows: 623\n"
          ]
        }
      ]
    }
  ]
}
